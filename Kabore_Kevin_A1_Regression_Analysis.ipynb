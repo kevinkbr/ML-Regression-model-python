{
 "cells": [
  {
   "cell_type": "markdown",
   "id": "77119063",
   "metadata": {},
   "source": [
    "# Regression Model\n",
    "\n"
   ]
  },
  {
   "cell_type": "code",
   "execution_count": 1,
   "id": "08c2542d",
   "metadata": {
    "scrolled": true
   },
   "outputs": [
    {
     "data": {
      "text/html": [
       "<div>\n",
       "<style scoped>\n",
       "    .dataframe tbody tr th:only-of-type {\n",
       "        vertical-align: middle;\n",
       "    }\n",
       "\n",
       "    .dataframe tbody tr th {\n",
       "        vertical-align: top;\n",
       "    }\n",
       "\n",
       "    .dataframe thead th {\n",
       "        text-align: right;\n",
       "    }\n",
       "</style>\n",
       "<table border=\"1\" class=\"dataframe\">\n",
       "  <thead>\n",
       "    <tr style=\"text-align: right;\">\n",
       "      <th></th>\n",
       "      <th>REVENUE</th>\n",
       "      <th>NAME</th>\n",
       "      <th>EMAIL</th>\n",
       "      <th>FIRST_NAME</th>\n",
       "      <th>FAMILY_NAME</th>\n",
       "      <th>TOTAL_MEALS_ORDERED</th>\n",
       "      <th>UNIQUE_MEALS_PURCH</th>\n",
       "      <th>CONTACTS_W_CUSTOMER_SERVICE</th>\n",
       "      <th>PRODUCT_CATEGORIES_VIEWED</th>\n",
       "      <th>AVG_TIME_PER_SITE_VISIT</th>\n",
       "      <th>CANCELLATIONS_AFTER_NOON</th>\n",
       "      <th>PC_LOGINS</th>\n",
       "      <th>MOBILE_LOGINS</th>\n",
       "      <th>WEEKLY_PLAN</th>\n",
       "      <th>LATE_DELIVERIES</th>\n",
       "      <th>AVG_PREP_VID_TIME</th>\n",
       "      <th>LARGEST_ORDER_SIZE</th>\n",
       "      <th>AVG_MEAN_RATING</th>\n",
       "      <th>TOTAL_PHOTOS_VIEWED</th>\n",
       "    </tr>\n",
       "  </thead>\n",
       "  <tbody>\n",
       "    <tr>\n",
       "      <th>0</th>\n",
       "      <td>4920.0</td>\n",
       "      <td>Steffon Baratheon</td>\n",
       "      <td>steffon.baratheon@yahoo.com</td>\n",
       "      <td>Steffon</td>\n",
       "      <td>Baratheon</td>\n",
       "      <td>493</td>\n",
       "      <td>9</td>\n",
       "      <td>1</td>\n",
       "      <td>10</td>\n",
       "      <td>265.6</td>\n",
       "      <td>5</td>\n",
       "      <td>5</td>\n",
       "      <td>2</td>\n",
       "      <td>0</td>\n",
       "      <td>0</td>\n",
       "      <td>137.41</td>\n",
       "      <td>6</td>\n",
       "      <td>2.894737</td>\n",
       "      <td>456</td>\n",
       "    </tr>\n",
       "    <tr>\n",
       "      <th>1</th>\n",
       "      <td>6150.0</td>\n",
       "      <td>Harlon Greyjoy</td>\n",
       "      <td>harlon.greyjoy@visa.com</td>\n",
       "      <td>Harlon</td>\n",
       "      <td>Greyjoy</td>\n",
       "      <td>361</td>\n",
       "      <td>9</td>\n",
       "      <td>1</td>\n",
       "      <td>6</td>\n",
       "      <td>247.0</td>\n",
       "      <td>2</td>\n",
       "      <td>5</td>\n",
       "      <td>1</td>\n",
       "      <td>0</td>\n",
       "      <td>0</td>\n",
       "      <td>120.20</td>\n",
       "      <td>5</td>\n",
       "      <td>2.631579</td>\n",
       "      <td>680</td>\n",
       "    </tr>\n",
       "    <tr>\n",
       "      <th>2</th>\n",
       "      <td>3435.0</td>\n",
       "      <td>Monster</td>\n",
       "      <td>monster@protonmail.com</td>\n",
       "      <td>Monster</td>\n",
       "      <td>Monster</td>\n",
       "      <td>278</td>\n",
       "      <td>6</td>\n",
       "      <td>1</td>\n",
       "      <td>4</td>\n",
       "      <td>164.4</td>\n",
       "      <td>0</td>\n",
       "      <td>6</td>\n",
       "      <td>1</td>\n",
       "      <td>5</td>\n",
       "      <td>0</td>\n",
       "      <td>127.00</td>\n",
       "      <td>3</td>\n",
       "      <td>3.684211</td>\n",
       "      <td>145</td>\n",
       "    </tr>\n",
       "    <tr>\n",
       "      <th>3</th>\n",
       "      <td>3330.0</td>\n",
       "      <td>Damon Lannister (lord)</td>\n",
       "      <td>damon.lannister.(lord)@yahoo.com</td>\n",
       "      <td>Damon</td>\n",
       "      <td>Lannister</td>\n",
       "      <td>269</td>\n",
       "      <td>8</td>\n",
       "      <td>1</td>\n",
       "      <td>2</td>\n",
       "      <td>176.0</td>\n",
       "      <td>5</td>\n",
       "      <td>5</td>\n",
       "      <td>2</td>\n",
       "      <td>0</td>\n",
       "      <td>0</td>\n",
       "      <td>129.78</td>\n",
       "      <td>6</td>\n",
       "      <td>3.157895</td>\n",
       "      <td>418</td>\n",
       "    </tr>\n",
       "    <tr>\n",
       "      <th>4</th>\n",
       "      <td>3427.5</td>\n",
       "      <td>Raynald Westerling</td>\n",
       "      <td>raynald.westerling@jnj.com</td>\n",
       "      <td>Raynald</td>\n",
       "      <td>Westerling</td>\n",
       "      <td>276</td>\n",
       "      <td>7</td>\n",
       "      <td>1</td>\n",
       "      <td>10</td>\n",
       "      <td>164.6</td>\n",
       "      <td>0</td>\n",
       "      <td>6</td>\n",
       "      <td>1</td>\n",
       "      <td>14</td>\n",
       "      <td>0</td>\n",
       "      <td>34.42</td>\n",
       "      <td>3</td>\n",
       "      <td>3.157895</td>\n",
       "      <td>174</td>\n",
       "    </tr>\n",
       "  </tbody>\n",
       "</table>\n",
       "</div>"
      ],
      "text/plain": [
       "   REVENUE                    NAME                             EMAIL FIRST_NAME FAMILY_NAME  TOTAL_MEALS_ORDERED  UNIQUE_MEALS_PURCH  CONTACTS_W_CUSTOMER_SERVICE  PRODUCT_CATEGORIES_VIEWED  AVG_TIME_PER_SITE_VISIT  CANCELLATIONS_AFTER_NOON  PC_LOGINS  MOBILE_LOGINS  WEEKLY_PLAN  LATE_DELIVERIES   AVG_PREP_VID_TIME  LARGEST_ORDER_SIZE  AVG_MEAN_RATING  TOTAL_PHOTOS_VIEWED\n",
       "0   4920.0       Steffon Baratheon       steffon.baratheon@yahoo.com    Steffon   Baratheon                  493                   9                            1                         10                    265.6                         5          5              2            0                 0             137.41                   6         2.894737                  456\n",
       "1   6150.0          Harlon Greyjoy           harlon.greyjoy@visa.com     Harlon     Greyjoy                  361                   9                            1                          6                    247.0                         2          5              1            0                 0             120.20                   5         2.631579                  680\n",
       "2   3435.0                 Monster            monster@protonmail.com    Monster     Monster                  278                   6                            1                          4                    164.4                         0          6              1            5                 0             127.00                   3         3.684211                  145\n",
       "3   3330.0  Damon Lannister (lord)  damon.lannister.(lord)@yahoo.com      Damon  Lannister                   269                   8                            1                          2                    176.0                         5          5              2            0                 0             129.78                   6         3.157895                  418\n",
       "4   3427.5      Raynald Westerling        raynald.westerling@jnj.com    Raynald  Westerling                  276                   7                            1                         10                    164.6                         0          6              1           14                 0              34.42                   3         3.157895                  174"
      ]
     },
     "execution_count": 1,
     "metadata": {},
     "output_type": "execute_result"
    }
   ],
   "source": [
    "# importing libraries\n",
    "import pandas as pd                   # data science essentials\n",
    "import matplotlib.pyplot as plt       # essential graphical output\n",
    "import seaborn as sns                 # enhanced graphical output\n",
    "import numpy as np                    # mathematical essentials\n",
    "import statsmodels.formula.api as smf# regression modeling\n",
    "from sklearn.model_selection import train_test_split # train/test split\n",
    "import sklearn.linear_model # linear modeling in scikit-learn\n",
    "from sklearn.ensemble import RandomForestRegressor #RandomForest package\n",
    "\n",
    "\n",
    "# setting pandas print options\n",
    "pd.set_option('display.max_rows', 500)\n",
    "pd.set_option('display.max_columns', 500)\n",
    "pd.set_option('display.width', 1000)\n",
    "\n",
    "\n",
    "#file name\n",
    "file = './database/Apprentice_Chef_Dataset_2023.xlsx'\n",
    "\n",
    "\n",
    "# reading the file \n",
    "chef = pd.read_excel(file)\n",
    "\n",
    "chef.head(n=5)"
   ]
  },
  {
   "cell_type": "markdown",
   "id": "c6c766b6",
   "metadata": {},
   "source": [
    "## Exploring through the Dataset"
   ]
  },
  {
   "cell_type": "code",
   "execution_count": null,
   "id": "a971e047",
   "metadata": {
    "scrolled": true
   },
   "outputs": [],
   "source": [
    "#Database information \n",
    "chef.info(verbose = True)"
   ]
  },
  {
   "cell_type": "markdown",
   "id": "e583af31",
   "metadata": {},
   "source": [
    "It appears that the FAMILY_NAME have 46 values that are missing as we can see here\n",
    "4   FAMILY_NAME  \"1900\" non-null   object . We can assume that the user didn't input their last name while they were inserting their information \n",
    "We will need treat that.\n",
    "Concerning the other variable nothing is missing.\n",
    "Mainly the dataset is composed of float, integer and object.\n"
   ]
  },
  {
   "cell_type": "code",
   "execution_count": null,
   "id": "18cad371",
   "metadata": {},
   "outputs": [],
   "source": [
    "chef.describe(include = 'number').round(2)"
   ]
  },
  {
   "cell_type": "code",
   "execution_count": null,
   "id": "b8304385",
   "metadata": {},
   "outputs": [],
   "source": [
    "# taking the chef dataset\n",
    "# and then\n",
    "# transforming it into boolean based on if a value is null\n",
    "# and then\n",
    "# summing together the results per column\n",
    "chef.isnull().sum(axis = 0)"
   ]
  },
  {
   "cell_type": "code",
   "execution_count": 2,
   "id": "f4b29ac2",
   "metadata": {},
   "outputs": [],
   "source": [
    "#We have 46 value missing in the FAMILY_NAME.\n",
    "#I will assume that this data was not insert and replace it\n",
    "# instantiating an imputation value\n",
    "fill = 'N/A'\n",
    "\n",
    "\n",
    "# imputing 'FAMILY_NAME'\n",
    "chef['FAMILY_NAME'] = chef['FAMILY_NAME'].fillna(fill)"
   ]
  },
  {
   "cell_type": "code",
   "execution_count": null,
   "id": "efded7d0",
   "metadata": {},
   "outputs": [],
   "source": [
    "#verify that there is no more missing value in the database\n",
    "chef.isnull().any().any()"
   ]
  },
  {
   "cell_type": "markdown",
   "id": "043c76fb",
   "metadata": {},
   "source": [
    "There is no more null value in the dataset"
   ]
  },
  {
   "cell_type": "markdown",
   "id": "0242a35f",
   "metadata": {},
   "source": [
    "## Data Classification "
   ]
  },
  {
   "cell_type": "markdown",
   "id": "bdfabb68",
   "metadata": {},
   "source": [
    "Before going further I need to classify my data into 3 different categories it will help me through my analysis: \n",
    "* Continuous\n",
    "* Interval/Count\n",
    "* Categorical"
   ]
  },
  {
   "cell_type": "code",
   "execution_count": null,
   "id": "118af735",
   "metadata": {},
   "outputs": [],
   "source": [
    "### CONTINIOUS\n",
    "-----------\n",
    "\n",
    "REVENUE (Y-Variable)\n",
    "AVG_TIME_PER_SITE_VISIT\n",
    "AVG_PREP_VID_TIME\n",
    "\n",
    "### INTERVAL/COUNT \n",
    "--------------\n",
    "TOTAL_MEALS_ORDERED\n",
    "AVG_MEAN_RATING #AVG MEAL RATING typo mistake I need to fix it\n",
    "LARGEST_ORDER_SIZE\n",
    "UNIQUE_MEALS_PURCH\n",
    "CONTACTS_W_CUSTOMER_SERVICE\n",
    "PRODUCT_CATEGORIES_VIEWED\n",
    "CANCELLATIONS_AFTER_NOON\n",
    "PC_LOGINS\n",
    "MOBILE_LOGINS\n",
    "WEEKLY_PLAN\n",
    "LATE_DELIVERIES #typo mistake need to delete the space\n",
    "TOTAL_PHOTOS_VIEWED\n",
    "\n",
    "### CATEGORICAL\n",
    "-----------\n",
    "\n",
    "EMAIL\n",
    "FIRST_NAME\n",
    "FAMILY_NAME\n"
   ]
  },
  {
   "cell_type": "code",
   "execution_count": 3,
   "id": "37c9e4a4",
   "metadata": {},
   "outputs": [],
   "source": [
    "#correctiong sintax error\n",
    "chef['LATE_DELIVERIES'] = chef['LATE_DELIVERIES ']\n",
    "chef['AVG_MEAL_RATING'] = chef['AVG_MEAN_RATING']\n"
   ]
  },
  {
   "cell_type": "markdown",
   "id": "d8bcfc3c",
   "metadata": {
    "cell_style": "split"
   },
   "source": [
    "## Investigation relationship between revenue and continous  variable"
   ]
  },
  {
   "cell_type": "code",
   "execution_count": 35,
   "id": "f796783d",
   "metadata": {},
   "outputs": [
    {
     "name": "stderr",
     "output_type": "stream",
     "text": [
      "C:\\Users\\Kevin Kabore\\AppData\\Local\\Temp\\ipykernel_51424\\3853607290.py:2: FutureWarning: Dropping of nuisance columns in DataFrame reductions (with 'numeric_only=None') is deprecated; in a future version this will raise TypeError.  Select only valid columns before calling the reduction.\n",
      "  chef.skew()\n"
     ]
    },
    {
     "data": {
      "text/plain": [
       "REVENUE                               1.626573\n",
       "TOTAL_MEALS_ORDERED                   2.006653\n",
       "UNIQUE_MEALS_PURCH                    0.566015\n",
       "CONTACTS_W_CUSTOMER_SERVICE           0.370833\n",
       "PRODUCT_CATEGORIES_VIEWED             0.163797\n",
       "AVG_TIME_PER_SITE_VISIT               1.200283\n",
       "CANCELLATIONS_AFTER_NOON              1.436629\n",
       "PC_LOGINS                            -0.038384\n",
       "MOBILE_LOGINS                         0.052285\n",
       "WEEKLY_PLAN                           1.538602\n",
       "LATE_DELIVERIES                       1.709671\n",
       "AVG_PREP_VID_TIME                     9.639388\n",
       "LARGEST_ORDER_SIZE                    0.703995\n",
       "AVG_MEAN_RATING                      -0.113411\n",
       "TOTAL_PHOTOS_VIEWED                   2.604685\n",
       "LATE_DELIVERIES                       1.709671\n",
       "AVG_MEAL_RATING                      -0.113411\n",
       "log_AVG_TIME_PER_SITE_VISIT          -0.063739\n",
       "log_AVG_PREP_VID_TIME                -0.490844\n",
       "log_REVENUE                           0.184090\n",
       "log_TOTAL_MEALS_ORDERED              -0.283446\n",
       "log_TOTAL_PHOTOS_VIEWED               0.400043\n",
       "customer_engagement                   1.190501\n",
       "Largest order size to Total Orders    3.114614\n",
       "dtype: float64"
      ]
     },
     "execution_count": 35,
     "metadata": {},
     "output_type": "execute_result"
    }
   ],
   "source": [
    "#check the skewness of each features\n",
    "chef.skew()"
   ]
  },
  {
   "cell_type": "markdown",
   "id": "d70283e8",
   "metadata": {},
   "source": [
    "We will try to keep the skewness of our variables under 1. Many of our variables are skewed, so we will need to investigate and treat them for our analysis. We will investigate the skewness of our variables using histograms and scatter plot."
   ]
  },
  {
   "cell_type": "code",
   "execution_count": 65,
   "id": "326df5d5",
   "metadata": {
    "cell_style": "split"
   },
   "outputs": [
    {
     "data": {
      "image/png": "[encoded data removed]",
      "text/plain": [
       "<Figure size 640x480 with 1 Axes>"
      ]
     },
     "metadata": {},
     "output_type": "display_data"
    }
   ],
   "source": [
    "# developing a histogram using HISTPLOT for REVENUE\n",
    "\n",
    "sns.histplot(data   = chef,\n",
    "             x      = 'REVENUE',\n",
    "             kde    = True)\n",
    "\n",
    "\n",
    "# title and axis labels\n",
    "plt.title(label   = \"Original Distribution of Revenue\")\n",
    "plt.xlabel(xlabel = \"Revenue\") # avoiding using dataset labels\n",
    "plt.ylabel(ylabel = \"Count\")\n",
    "\n",
    "# displaying the histogram\n",
    "plt.show()"
   ]
  },
  {
   "cell_type": "code",
   "execution_count": null,
   "id": "0fc46621",
   "metadata": {
    "cell_style": "split",
    "scrolled": true
   },
   "outputs": [],
   "source": [
    "#log transforming Revenue and saving it to the dataset\n",
    "chef['log_REVENUE'] = np.log(chef['REVENUE'])\n",
    "# developing a histogram using HISTPLOT\n",
    "sns.histplot(data   = chef,\n",
    "             x      = 'log_REVENUE',\n",
    "             kde    = True)\n",
    "\n",
    "\n",
    "# title and axis labels\n",
    "plt.title(label   = \"Logarithm Distribution of Revenue\")\n",
    "plt.xlabel(xlabel = \"Revenue\") # avoiding using dataset labels\n",
    "plt.ylabel(ylabel = \"Count\")\n",
    "\n",
    "# displaying the histogram\n",
    "plt.show()"
   ]
  },
  {
   "cell_type": "markdown",
   "id": "2264856b",
   "metadata": {},
   "source": [
    " Our response variable is skewed, and I will clean this variable to use it in my model."
   ]
  },
  {
   "cell_type": "code",
   "execution_count": null,
   "id": "4ab4e179",
   "metadata": {
    "cell_style": "split"
   },
   "outputs": [],
   "source": [
    "# histogram for \n",
    "plt.subplot(2, 2, 3)\n",
    "sns.histplot(data   = chef,\n",
    "             x      = 'AVG_TIME_PER_SITE_VISIT',\n",
    "             kde    = True)\n",
    "plt.show()\n",
    "\n",
    "# histogram for\n",
    "plt.subplot(2, 2, 3)\n",
    "sns.histplot(data   = chef,\n",
    "             x      = 'AVG_PREP_VID_TIME',\n",
    "             kde    = True)\n",
    "\n",
    "plt.show()\n"
   ]
  },
  {
   "cell_type": "code",
   "execution_count": null,
   "id": "0a3840d3",
   "metadata": {
    "cell_style": "split"
   },
   "outputs": [],
   "source": [
    "########################\n",
    "# Visual Scatterplots\n",
    "########################\n",
    "\n",
    "# setting figure size\n",
    "fig, ax = plt.subplots(figsize = (10, 8))\n",
    "\n",
    "\n",
    "# developing a scatterplot\n",
    "plt.subplot(2, 2, 1)\n",
    "sns.scatterplot(x = chef['AVG_TIME_PER_SITE_VISIT'],\n",
    "                y = chef['REVENUE'],\n",
    "                color = 'g')\n",
    "\n",
    "\n",
    "# adding labels but not adding title\n",
    "plt.xlabel(xlabel = 'Average time per site visit')\n",
    "plt.ylabel(ylabel = 'Revenue')\n",
    "\n",
    "\n",
    "########################\n",
    "\n",
    "\n",
    "# developing a scatterplot\n",
    "plt.subplot(2, 2, 2)\n",
    "sns.scatterplot(x = chef['AVG_PREP_VID_TIME'],\n",
    "                y = chef['REVENUE'],\n",
    "                color = 'g')\n",
    "\n",
    "\n",
    "# adding labels but not adding title\n",
    "plt.xlabel(xlabel = 'Avg prep video time')\n",
    "plt.ylabel(ylabel = 'Revenue')"
   ]
  },
  {
   "cell_type": "markdown",
   "id": "7ffeaaad",
   "metadata": {},
   "source": [
    "The 'average time per site visit' and 'average prep video time ' exhibit positive skewness, and the presence of outliers in the data makes it difficult to gain a clear understanding of the relationship between these variables and revenue. To guarantee that the information is suitable for analysis, it is required to apply the proper outlier treatment methods."
   ]
  },
  {
   "cell_type": "code",
   "execution_count": 4,
   "id": "2ff4b254",
   "metadata": {},
   "outputs": [],
   "source": [
    "#cleaning continuous cariable\n",
    "#for average time per site visit\n",
    "chef['log_AVG_TIME_PER_SITE_VISIT'] = np.log(chef['AVG_TIME_PER_SITE_VISIT'])\n",
    "#for average prep video time\n",
    "chef['log_AVG_PREP_VID_TIME'] = np.log(chef['AVG_PREP_VID_TIME'])\n",
    "#for revenue\n",
    "chef['log_REVENUE'] = np.log(chef['REVENUE'])"
   ]
  },
  {
   "cell_type": "code",
   "execution_count": null,
   "id": "6605d21f",
   "metadata": {
    "cell_style": "split"
   },
   "outputs": [],
   "source": [
    "# histogram for log avg time per site visit\n",
    "plt.subplot(2, 2, 3)\n",
    "sns.histplot(data   = chef,\n",
    "             x      = 'log_AVG_TIME_PER_SITE_VISIT',\n",
    "             kde    = True)\n",
    "plt.show()\n"
   ]
  },
  {
   "cell_type": "code",
   "execution_count": null,
   "id": "40d5a35e",
   "metadata": {
    "cell_style": "split"
   },
   "outputs": [],
   "source": [
    "# histogram for logarithm of avg prep video\n",
    "plt.subplot(2, 2, 3)\n",
    "sns.histplot(data   = chef,\n",
    "             x      = 'log_AVG_PREP_VID_TIME',\n",
    "             kde    = True)\n",
    "\n",
    "plt.show()"
   ]
  },
  {
   "cell_type": "markdown",
   "id": "6b18c8aa",
   "metadata": {},
   "source": [
    "The distribution of our continuous variables appears to be more normal following data cleaning, as we can see from the histogram and scatter plot, making them appropriate for further analysis."
   ]
  },
  {
   "cell_type": "code",
   "execution_count": null,
   "id": "11e43829",
   "metadata": {
    "cell_style": "split"
   },
   "outputs": [],
   "source": [
    "# histogram for\n",
    "plt.subplot(2, 2, 3)\n",
    "sns.histplot(data   = chef,\n",
    "             x      = 'TOTAL_MEALS_ORDERED',\n",
    "             kde    = True)"
   ]
  },
  {
   "cell_type": "code",
   "execution_count": null,
   "id": "087892d3",
   "metadata": {
    "cell_style": "split"
   },
   "outputs": [],
   "source": [
    "plt.subplot(2, 2, 2)\n",
    "sns.scatterplot(x = chef['TOTAL_MEALS_ORDERED'],\n",
    "                y = chef['REVENUE'],\n",
    "                color = 'g')"
   ]
  },
  {
   "cell_type": "markdown",
   "id": "dab08fa8",
   "metadata": {},
   "source": [
    "According to \"Statistics for Psychology\" by Arthur Aron, Elaine N. Aron, and Elliot J. Coups (5th Edition, 2019), \"Interval variables are sometimes treated as if they were continuous variables if the values of the variable are very fine and the distribution is very smooth. In other words, if the number of different values of the variable is very large and the values are very close to each other, then the variable may be treated as a continuous variable.\"\n",
    "\n",
    "I will investigate the interval variables to determine if their distributions resemble that of continuous variables, and if so, I will treat them as such for analysis."
   ]
  },
  {
   "cell_type": "code",
   "execution_count": null,
   "id": "851f131a",
   "metadata": {
    "cell_style": "split"
   },
   "outputs": [],
   "source": [
    "# histogram and scatterplot for largerst order siz\n",
    "plt.subplot(2, 2, 2)\n",
    "sns.scatterplot(x = chef['LARGEST_ORDER_SIZE'],\n",
    "                y = chef['REVENUE'],\n",
    "                color = 'g')\n",
    "\n",
    "# histogram for\n",
    "plt.subplot(2, 2, 3)\n",
    "sns.histplot(data   = chef,\n",
    "             x      = 'LARGEST_ORDER_SIZE',\n",
    "             kde    = True)\n",
    "\n",
    "plt.show()"
   ]
  },
  {
   "cell_type": "code",
   "execution_count": null,
   "id": "5bb1d2c3",
   "metadata": {
    "cell_style": "split"
   },
   "outputs": [],
   "source": [
    "# histogram and scatterplot for unique meal purch\n",
    "plt.subplot(2, 2, 2)\n",
    "sns.scatterplot(x = chef['UNIQUE_MEALS_PURCH'],\n",
    "                y = chef['REVENUE'],\n",
    "                color = 'g')\n",
    "\n",
    "# histogram for\n",
    "plt.subplot(2, 2, 3)\n",
    "sns.histplot(data   = chef,\n",
    "             x      = 'UNIQUE_MEALS_PURCH',\n",
    "             kde    = True)\n",
    "\n",
    "plt.show()"
   ]
  },
  {
   "cell_type": "code",
   "execution_count": null,
   "id": "ed6e5f92",
   "metadata": {
    "cell_style": "split"
   },
   "outputs": [],
   "source": [
    "# histogram and scatterplot for contact w customer\n",
    "plt.subplot(2, 2, 2)\n",
    "sns.scatterplot(x = chef['CONTACTS_W_CUSTOMER_SERVICE'],\n",
    "                y = chef['REVENUE'],\n",
    "                color = 'g')\n",
    "\n",
    "\n",
    "plt.subplot(2, 2, 3)\n",
    "sns.histplot(data   = chef,\n",
    "             x      = 'CONTACTS_W_CUSTOMER_SERVICE',\n",
    "             kde    = True)\n",
    "\n",
    "plt.show()"
   ]
  },
  {
   "cell_type": "code",
   "execution_count": 28,
   "id": "281b0127",
   "metadata": {
    "cell_style": "split"
   },
   "outputs": [
    {
     "data": {
      "image/png": "[encoded data removed]",
      "text/plain": [
       "<Figure size 640x480 with 2 Axes>"
      ]
     },
     "metadata": {},
     "output_type": "display_data"
    }
   ],
   "source": [
    "# histogram and scatterplot for total photo viewed\n",
    "plt.subplot(2, 2, 2)\n",
    "sns.scatterplot(x = chef['TOTAL_PHOTOS_VIEWED'],\n",
    "                y = chef['REVENUE'],\n",
    "                color = 'g')\n",
    "\n",
    "\n",
    "plt.subplot(2, 2, 3)\n",
    "sns.histplot(data   = chef,\n",
    "             x      = 'TOTAL_PHOTOS_VIEWED',\n",
    "             kde    = True)\n",
    "\n",
    "plt.show()\n"
   ]
  },
  {
   "cell_type": "code",
   "execution_count": null,
   "id": "58d9324c",
   "metadata": {
    "cell_style": "split"
   },
   "outputs": [],
   "source": [
    "plt.subplot(2, 2, 2)\n",
    "sns.scatterplot(x = chef['PRODUCT_CATEGORIES_VIEWED'],\n",
    "                y = chef['REVENUE'],\n",
    "                color = 'g')\n",
    "\n",
    "# histogram for\n",
    "plt.subplot(2, 2, 3)\n",
    "sns.histplot(data   = chef,\n",
    "             x      = 'PRODUCT_CATEGORIES_VIEWED',\n",
    "             kde    = True)\n",
    "\n",
    "plt.show()"
   ]
  },
  {
   "cell_type": "code",
   "execution_count": null,
   "id": "4df9c370",
   "metadata": {
    "cell_style": "split"
   },
   "outputs": [],
   "source": [
    "plt.subplot(2, 2, 2)\n",
    "sns.scatterplot(x = chef['CANCELLATIONS_AFTER_NOON'],\n",
    "                y = chef['REVENUE'],\n",
    "                color = 'g')\n",
    "\n",
    "# histogram for\n",
    "plt.subplot(2, 2, 3)\n",
    "sns.histplot(data   = chef,\n",
    "             x      = 'CANCELLATIONS_AFTER_NOON',\n",
    "             kde    = True)\n",
    "plt.show()"
   ]
  },
  {
   "cell_type": "code",
   "execution_count": null,
   "id": "9b6fd9d8",
   "metadata": {
    "cell_style": "split",
    "code_folding": [],
    "scrolled": true
   },
   "outputs": [],
   "source": [
    "plt.subplot(2, 2, 2)\n",
    "sns.scatterplot(x = chef['PC_LOGINS'],\n",
    "                y = chef['REVENUE'],\n",
    "                color = 'g')\n",
    "\n",
    "# histogram for\n",
    "plt.subplot(2, 2, 3)\n",
    "sns.histplot(data   = chef,\n",
    "             x      = 'PC_LOGINS',\n",
    "             kde    = True)\n",
    "\n"
   ]
  },
  {
   "cell_type": "code",
   "execution_count": null,
   "id": "566d85cf",
   "metadata": {
    "cell_style": "split",
    "code_folding": [
     7
    ]
   },
   "outputs": [],
   "source": [
    "plt.subplot(2, 2, 2)\n",
    "sns.scatterplot(x = chef['MOBILE_LOGINS'],\n",
    "                y = chef['REVENUE'],\n",
    "                color = 'g')\n",
    "\n",
    "# histogram for\n",
    "plt.subplot(2, 2, 3)\n",
    "sns.histplot(data   = chef,\n",
    "             x      = 'MOBILE_LOGINS',\n",
    "             kde    = True)\n",
    "\n",
    "plt.show()"
   ]
  },
  {
   "cell_type": "code",
   "execution_count": 34,
   "id": "2ddbb42b",
   "metadata": {
    "cell_style": "split"
   },
   "outputs": [
    {
     "data": {
      "image/png": "[encoded data removed]",
      "text/plain": [
       "<Figure size 640x480 with 2 Axes>"
      ]
     },
     "metadata": {},
     "output_type": "display_data"
    }
   ],
   "source": [
    "plt.subplot(2, 2, 2)\n",
    "sns.scatterplot(x = chef['AVG_MEAN_RATING'],\n",
    "                y = chef['REVENUE'],\n",
    "                color = 'g')\n",
    "\n",
    "# histogram for\n",
    "plt.subplot(2, 2, 3)\n",
    "sns.histplot(data   = chef,\n",
    "             x      = 'AVG_MEAN_RATING',\n",
    "             kde    = True)\n",
    "\n",
    "plt.show()"
   ]
  },
  {
   "cell_type": "code",
   "execution_count": null,
   "id": "a20a925d",
   "metadata": {
    "cell_style": "split",
    "code_folding": [
     1,
     7
    ]
   },
   "outputs": [],
   "source": [
    "plt.subplot(2, 2, 2)\n",
    "sns.scatterplot(x = chef['LATE_DELIVERIES'],\n",
    "                y = chef['REVENUE'],\n",
    "                color = 'g')\n",
    "\n",
    "# histogram for\n",
    "plt.subplot(2, 2, 3)\n",
    "sns.histplot(data   = chef,\n",
    "             x      = 'LATE_DELIVERIES',\n",
    "             kde    = True)\n",
    "\n",
    "plt.show()"
   ]
  },
  {
   "cell_type": "code",
   "execution_count": null,
   "id": "ba344f7c",
   "metadata": {
    "cell_style": "split"
   },
   "outputs": [],
   "source": [
    "plt.subplot(2, 2, 2)\n",
    "sns.scatterplot(x = chef['TOTAL_PHOTOS_VIEWED'],\n",
    "                y = chef['REVENUE'],\n",
    "                color = 'g')\n",
    "\n",
    "# histogram for\n",
    "plt.subplot(2, 2, 3)\n",
    "sns.histplot(data   = chef,\n",
    "             x      = 'TOTAL_PHOTOS_VIEWED',\n",
    "             kde    = True)\n",
    "\n",
    "plt.show()"
   ]
  },
  {
   "cell_type": "markdown",
   "id": "f9d0938c",
   "metadata": {},
   "source": [
    "Due to the distribution and the scatter plot I will consider total meals ordered and total photo viewed as continuous variable for my predictive model. I can see that both variable are skewed so I proceed and clean those with the logarithm function"
   ]
  },
  {
   "cell_type": "code",
   "execution_count": 5,
   "id": "ddc403a1",
   "metadata": {},
   "outputs": [],
   "source": [
    "#log of total meals ordered and total photos viewed\n",
    "chef['log_TOTAL_MEALS_ORDERED'] = np.log(chef['TOTAL_MEALS_ORDERED'])\n",
    "chef['log_TOTAL_PHOTOS_VIEWED'] = np.log(chef['TOTAL_PHOTOS_VIEWED'])"
   ]
  },
  {
   "cell_type": "markdown",
   "id": "e603fe36",
   "metadata": {},
   "source": [
    "## FEATURE ENGIENERING "
   ]
  },
  {
   "cell_type": "code",
   "execution_count": 32,
   "id": "048221ae",
   "metadata": {},
   "outputs": [],
   "source": [
    "#feature 1 that is the customer engagement score to see how engage are each customer\n",
    "chef['customer_engagement'] = chef['AVG_TIME_PER_SITE_VISIT'] + chef['CONTACTS_W_CUSTOMER_SERVICE']\n",
    "#feature 2 that is the proportion of large order out of the total order\n",
    "chef['Largest order size to Total Orders' ] = chef['LARGEST_ORDER_SIZE'] / chef['TOTAL_MEALS_ORDERED']"
   ]
  },
  {
   "cell_type": "markdown",
   "id": "af3b0ada",
   "metadata": {},
   "source": [
    "This feature represents the proportion of large orders in relation to the total number of orders, and the model suggests that a higher proportion of large orders is associated with higher revenues.\n",
    "\n",
    "The feature 'customer_engagement' is a composite feature that I created by combining 'CONTACTS_W_CUSTOMER_SERVICE' and 'AVG_TIME_PER_SITE_VISIT'."
   ]
  },
  {
   "cell_type": "markdown",
   "id": "0e4c1201",
   "metadata": {},
   "source": [
    "## MODEL"
   ]
  },
  {
   "cell_type": "code",
   "execution_count": 64,
   "id": "16ca00e3",
   "metadata": {},
   "outputs": [
    {
     "data": {
      "text/html": [
       "<div>\n",
       "<style scoped>\n",
       "    .dataframe tbody tr th:only-of-type {\n",
       "        vertical-align: middle;\n",
       "    }\n",
       "\n",
       "    .dataframe tbody tr th {\n",
       "        vertical-align: top;\n",
       "    }\n",
       "\n",
       "    .dataframe thead th {\n",
       "        text-align: right;\n",
       "    }\n",
       "</style>\n",
       "<table border=\"1\" class=\"dataframe\">\n",
       "  <thead>\n",
       "    <tr style=\"text-align: right;\">\n",
       "      <th></th>\n",
       "      <th>REVENUE</th>\n",
       "      <th>log_REVENUE</th>\n",
       "    </tr>\n",
       "  </thead>\n",
       "  <tbody>\n",
       "    <tr>\n",
       "      <th>REVENUE</th>\n",
       "      <td>1.00</td>\n",
       "      <td>0.95</td>\n",
       "    </tr>\n",
       "    <tr>\n",
       "      <th>log_REVENUE</th>\n",
       "      <td>0.95</td>\n",
       "      <td>1.00</td>\n",
       "    </tr>\n",
       "    <tr>\n",
       "      <th>customer_engagement</th>\n",
       "      <td>0.65</td>\n",
       "      <td>0.66</td>\n",
       "    </tr>\n",
       "    <tr>\n",
       "      <th>AVG_TIME_PER_SITE_VISIT</th>\n",
       "      <td>0.64</td>\n",
       "      <td>0.65</td>\n",
       "    </tr>\n",
       "    <tr>\n",
       "      <th>log_AVG_TIME_PER_SITE_VISIT</th>\n",
       "      <td>0.63</td>\n",
       "      <td>0.67</td>\n",
       "    </tr>\n",
       "    <tr>\n",
       "      <th>log_TOTAL_MEALS_ORDERED</th>\n",
       "      <td>0.61</td>\n",
       "      <td>0.69</td>\n",
       "    </tr>\n",
       "    <tr>\n",
       "      <th>TOTAL_MEALS_ORDERED</th>\n",
       "      <td>0.60</td>\n",
       "      <td>0.61</td>\n",
       "    </tr>\n",
       "    <tr>\n",
       "      <th>TOTAL_PHOTOS_VIEWED</th>\n",
       "      <td>0.46</td>\n",
       "      <td>0.43</td>\n",
       "    </tr>\n",
       "    <tr>\n",
       "      <th>LARGEST_ORDER_SIZE</th>\n",
       "      <td>0.44</td>\n",
       "      <td>0.45</td>\n",
       "    </tr>\n",
       "    <tr>\n",
       "      <th>log_TOTAL_PHOTOS_VIEWED</th>\n",
       "      <td>0.42</td>\n",
       "      <td>0.42</td>\n",
       "    </tr>\n",
       "    <tr>\n",
       "      <th>CONTACTS_W_CUSTOMER_SERVICE</th>\n",
       "      <td>0.17</td>\n",
       "      <td>0.18</td>\n",
       "    </tr>\n",
       "    <tr>\n",
       "      <th>log_AVG_PREP_VID_TIME</th>\n",
       "      <td>0.15</td>\n",
       "      <td>0.15</td>\n",
       "    </tr>\n",
       "    <tr>\n",
       "      <th>AVG_PREP_VID_TIME</th>\n",
       "      <td>0.14</td>\n",
       "      <td>0.14</td>\n",
       "    </tr>\n",
       "    <tr>\n",
       "      <th>UNIQUE_MEALS_PURCH</th>\n",
       "      <td>0.10</td>\n",
       "      <td>-0.04</td>\n",
       "    </tr>\n",
       "    <tr>\n",
       "      <th>MOBILE_LOGINS</th>\n",
       "      <td>0.07</td>\n",
       "      <td>0.08</td>\n",
       "    </tr>\n",
       "    <tr>\n",
       "      <th>PRODUCT_CATEGORIES_VIEWED</th>\n",
       "      <td>0.03</td>\n",
       "      <td>0.04</td>\n",
       "    </tr>\n",
       "    <tr>\n",
       "      <th>PC_LOGINS</th>\n",
       "      <td>0.02</td>\n",
       "      <td>0.01</td>\n",
       "    </tr>\n",
       "    <tr>\n",
       "      <th>WEEKLY_PLAN</th>\n",
       "      <td>0.01</td>\n",
       "      <td>0.01</td>\n",
       "    </tr>\n",
       "    <tr>\n",
       "      <th>CANCELLATIONS_AFTER_NOON</th>\n",
       "      <td>0.00</td>\n",
       "      <td>-0.00</td>\n",
       "    </tr>\n",
       "    <tr>\n",
       "      <th>LATE_DELIVERIES</th>\n",
       "      <td>-0.02</td>\n",
       "      <td>-0.03</td>\n",
       "    </tr>\n",
       "    <tr>\n",
       "      <th>LATE_DELIVERIES</th>\n",
       "      <td>-0.02</td>\n",
       "      <td>-0.03</td>\n",
       "    </tr>\n",
       "    <tr>\n",
       "      <th>Largest order size to Total Orders</th>\n",
       "      <td>-0.38</td>\n",
       "      <td>-0.48</td>\n",
       "    </tr>\n",
       "    <tr>\n",
       "      <th>AVG_MEAN_RATING</th>\n",
       "      <td>-0.55</td>\n",
       "      <td>-0.58</td>\n",
       "    </tr>\n",
       "    <tr>\n",
       "      <th>AVG_MEAL_RATING</th>\n",
       "      <td>-0.55</td>\n",
       "      <td>-0.58</td>\n",
       "    </tr>\n",
       "  </tbody>\n",
       "</table>\n",
       "</div>"
      ],
      "text/plain": [
       "                                    REVENUE  log_REVENUE\n",
       "REVENUE                                1.00         0.95\n",
       "log_REVENUE                            0.95         1.00\n",
       "customer_engagement                    0.65         0.66\n",
       "AVG_TIME_PER_SITE_VISIT                0.64         0.65\n",
       "log_AVG_TIME_PER_SITE_VISIT            0.63         0.67\n",
       "log_TOTAL_MEALS_ORDERED                0.61         0.69\n",
       "TOTAL_MEALS_ORDERED                    0.60         0.61\n",
       "TOTAL_PHOTOS_VIEWED                    0.46         0.43\n",
       "LARGEST_ORDER_SIZE                     0.44         0.45\n",
       "log_TOTAL_PHOTOS_VIEWED                0.42         0.42\n",
       "CONTACTS_W_CUSTOMER_SERVICE            0.17         0.18\n",
       "log_AVG_PREP_VID_TIME                  0.15         0.15\n",
       "AVG_PREP_VID_TIME                      0.14         0.14\n",
       "UNIQUE_MEALS_PURCH                     0.10        -0.04\n",
       "MOBILE_LOGINS                          0.07         0.08\n",
       "PRODUCT_CATEGORIES_VIEWED              0.03         0.04\n",
       "PC_LOGINS                              0.02         0.01\n",
       "WEEKLY_PLAN                            0.01         0.01\n",
       "CANCELLATIONS_AFTER_NOON               0.00        -0.00\n",
       "LATE_DELIVERIES                       -0.02        -0.03\n",
       "LATE_DELIVERIES                       -0.02        -0.03\n",
       "Largest order size to Total Orders    -0.38        -0.48\n",
       "AVG_MEAN_RATING                       -0.55        -0.58\n",
       "AVG_MEAL_RATING                       -0.55        -0.58"
      ]
     },
     "execution_count": 64,
     "metadata": {},
     "output_type": "execute_result"
    }
   ],
   "source": [
    "#correlation matrix\n",
    "chef_corr = chef.corr().round(2)\n",
    "\n",
    "\n",
    "#Pearson correlations with Revenue\n",
    "chef_corr.loc[ : , ['REVENUE', 'log_REVENUE'] ].sort_values(by = 'REVENUE',\n",
    "                                                                ascending = False)"
   ]
  },
  {
   "cell_type": "code",
   "execution_count": 53,
   "id": "23310926",
   "metadata": {},
   "outputs": [],
   "source": [
    "# setting my x variables for my model\n",
    "\n",
    "x_data_test = ['log_AVG_TIME_PER_SITE_VISIT', 'log_TOTAL_MEALS_ORDERED', 'log_TOTAL_PHOTOS_VIEWED', 'LARGEST_ORDER_SIZE',\n",
    "              'CONTACTS_W_CUSTOMER_SERVICE', 'log_AVG_PREP_VID_TIME', 'AVG_MEAN_RATING', 'customer_engagement', 'Largest order size to Total Orders', 'UNIQUE_MEALS_PURCH']\n",
    "\n",
    "x_t = chef.loc[:, x_data_test]\n",
    "# preparing y for my model\n",
    "y_data = chef.loc[ : , 'REVENUE']    # normal y variable \n",
    "log_y_data = chef.loc[ : , 'log_REVENUE'] # logarithm y variable"
   ]
  },
  {
   "cell_type": "markdown",
   "id": "b94ab2a2",
   "metadata": {},
   "source": [
    "It's critical to choose the variables that have the strongest correlation with revenue in order to develop a model that can predict revenue effectively. I used the dataset's correlation analysis to find these attributes. I discovered that a number of factors, including the biggest order size, the typical duration of a site visit, and the typical length of a prep video, had a largely positive relationship with revenue. These variables and others were chosen for the model based on this analysis.\n",
    "\n",
    "I excluded categorical data from my model. Although some of these factors can affect revenue, I figured they wouldn't have as much of an impact as the constant factors. This approach allowed me to identify the most important features for revenue.\n",
    "\n"
   ]
  },
  {
   "cell_type": "code",
   "execution_count": 54,
   "id": "a1339ba5",
   "metadata": {},
   "outputs": [],
   "source": [
    "x_train, x_test, y_train, y_test = train_test_split(\n",
    "            x_t, \n",
    "            log_y_data, \n",
    "            test_size    = 0.25,\n",
    "            random_state = 219)"
   ]
  },
  {
   "cell_type": "code",
   "execution_count": 66,
   "id": "25117103",
   "metadata": {},
   "outputs": [
    {
     "name": "stderr",
     "output_type": "stream",
     "text": [
      "C:\\Users\\Kevin Kabore\\anaconda3\\lib\\site-packages\\sklearn\\ensemble\\_forest.py:396: FutureWarning: Criterion 'mse' was deprecated in v1.0 and will be removed in version 1.2. Use `criterion='squared_error'` which is equivalent.\n",
      "  warn(\n"
     ]
    },
    {
     "name": "stdout",
     "output_type": "stream",
     "text": [
      "\n",
      "\n",
      "------------------\n",
      "FINAL MODEL\n",
      "-------------------\n",
      "\n",
      "Model Name:     Pruned Random Forest\n",
      "Train_Score:    0.8326\n",
      "Test_Score:     0.7898\n",
      "Train-Test Gap: 0.0428\n"
     ]
    }
   ],
   "source": [
    "\n",
    "#model name\n",
    "model_name = 'Pruned Random Forest'\n",
    "\n",
    "\n",
    "# instantiating a random forest model \n",
    "model = RandomForestRegressor(n_estimators     = 500,\n",
    "                              criterion        = 'mse',\n",
    "                              max_depth        = 12,\n",
    "                              min_samples_leaf = 16,\n",
    "                              bootstrap        = True,\n",
    "                              warm_start       = False,\n",
    "                              random_state     = 219)\n",
    "\n",
    "\n",
    "# fitting the training data\n",
    "model_fit = model.fit(x_train, y_train)\n",
    "\n",
    "\n",
    "# model prediction object based on the testing set\n",
    "model_pred = model.predict(x_test)\n",
    "\n",
    "\n",
    "# scoring results\n",
    "model_train_score = model.score(x_train, y_train).round(4) # using R-square\n",
    "model_test_score  = model.score(x_test, y_test).round(4)   # using R-square\n",
    "model_gap         = abs(model_train_score - model_test_score).round(4)\n",
    "\n",
    "\n",
    "RandomForest =  f\"\"\"\\\n",
    "Model Name:     {model_name}\n",
    "Train_Score:    {model_train_score}\n",
    "Test_Score:     {model_test_score}\n",
    "Train-Test Gap: {model_gap}\"\"\"\n",
    "\n",
    "\n",
    "print(f\"\"\"\n",
    "\n",
    "------------------\n",
    "FINAL MODEL\n",
    "-------------------\n",
    "\n",
    "{RandomForest}\"\"\")"
   ]
  },
  {
   "cell_type": "markdown",
   "id": "f6895142",
   "metadata": {},
   "source": [
    "   With a relatively small difference between the training and testing scores of 0.7898 and 0.8326, respectively, the model is functioning well. The testing score measures how effectively the model generalizes to fresh, untested data, whereas the training score measures how well the model fits the training data. The testing score should ideally be as high as possible without overfitting the model to the training set of data.\n",
    "\n",
    "The train-test gap, is 0.0428, which is likewise acceptable. The model may be overfitting the training set of data if the gap is too wide, and it may not be generalizing adequately to fresh data.\n",
    "Overall, these scores suggest that the model is performing well and has found a good balance between underfitting and overfitting.\n",
    "  \n",
    "The 'customer engagement' variable seems to be one of the model's most crucial elements. This function measures the total level of client engagement with the service. High levels of customer involvement may be a sign that customers are satisfied with the product and are likely to come back for more or refer others to it. Low levels of involvement, on the other hand, can signify dissatisfied customers, which might eventually result in declining sales.\n",
    "\n",
    "Another important feature is 'Largest order size to Total Orders', which represents the proportion of a customer's total orders that were the largest order.\n",
    "Customers' purchasing behavior may be tracked by this feature, as individuals who frequently place large orders may be more valuable to the company than those who frequently place small orders. Customers who make big orders could also be more likely to place big orders in the future, which might result in longer-term increases in income.\n",
    "\n",
    "Other important features in your model include 'log_AVG_TIME_PER_SITE_VISIT', 'log_TOTAL_MEALS_ORDERED', 'CONTACTS_W_CUSTOMER_SERVICE', 'log_TOTAL_PHOTOS_VIEWED', 'LARGEST_ORDER_SIZE', 'log_AVG_PREP_VID_TIME', 'AVG_MEAN_RATING', and 'UNIQUE_MEALS_PURCH'. These features capture other important aspects of customer behavior and engagement with the service."
   ]
  },
  {
   "cell_type": "markdown",
   "id": "b99cd628",
   "metadata": {},
   "source": [
    "## Business Insight"
   ]
  },
  {
   "cell_type": "markdown",
   "id": "f5b82b00",
   "metadata": {},
   "source": [
    "The customer engagement feature appears to be one of the most important in your model. This suggests that the business should focus on improving overall customer engagement with the service. \n",
    "The company can implement several strategies to incentivize customers to continue using the service.\n",
    "The company should take advantage of using personalized marketing strategies such as personalized promotions to maintain and enhance their customers’ engagement.\n",
    "For example, they could offer personalized recommendations based on customer preferences.\n",
    " Customer engagement could also be improved by providing prompt and efficient customer service to address any issues or concerns. The company could also consider implementing a loyalty program such as discounts, free products, or exclusive access to events or promotions. This is intended to reward customers for their continued fidelity to the business (source: \"The Benefits of Implementing a Customer Loyalty Program\" by HubSpot: https://blog.hubspot.com/service/customer-loyalty-program).\n",
    "\n",
    "As a result, these strategies will help to build a sense of community and a strong relationship between the company and its customers. The more engaged customers are with the company, the more likely they are to spend money on the company's products and services (source: \"The Impact of Customer Engagement on Business Performance\" by Forbes: https://www.forbes.com/sites/forbesbusinessdevelopmentcouncil/2019/08/01/the-impact-of-customer-engagement-on-business-performance/?sh=6af6cd501b9f).\n",
    "\n",
    "Something else to understand is that while it is important to attract new customers, retaining existing ones can be even more valuable in the long run. Therefore, instead of investing solely on acquiring new customers, the company should also prioritize customer retention. This could be achieved by providing excellent customer experiences that encourage customers to return and become frequent buyers. \n",
    "Then, this leads us to our second insight which is to improve customer service. According to my analysis, customer service has a positive relationship with revenue. Improving customer service could involve investing in additional customer service resources, improving response times, offering 24/7 customer service, and encouraging customer feedback so that we may better understand their needs.\n",
    "\n",
    "In addition, my analysis suggests that customers who make larger orders are more valuable to the business, meaning that there is a greater profit on these kinds of sales. Encouraging larger orders could include strategies like offering discounts on larger orders or promoting products that are frequently purchased in large quantities.\n",
    "\n",
    "Additionally, the model suggests that the average prep video time has a significant positive impact on revenue. This indicates that customers who are more engaged with the cooking videos are more likely to spend money on the company's products and services. One actionable business insight that can be derived from this is that the company could consider offering more cooking resources, such as recipes, cooking videos, or tutorials, to engage customers and encourage them to purchase more products.\n",
    "\n",
    "Overall, the insights derived from the model can help the company optimize its marketing and sales strategies by identifying the key factors that influence customer spending behavior. By implementing targeted strategies to improve customer engagement, customer service, encourage larger orders, and provide cooking resources, the company can increase its revenue and build stronger relationships with its customers."
   ]
  },
  {
   "cell_type": "code",
   "execution_count": null,
   "id": "6ce1bd68",
   "metadata": {},
   "outputs": [],
   "source": []
  }
 ],
 "metadata": {
  "kernelspec": {
   "display_name": "Python 3 (ipykernel)",
   "language": "python",
   "name": "python3"
  },
  "language_info": {
   "codemirror_mode": {
    "name": "ipython",
    "version": 3
   },
   "file_extension": ".py",
   "mimetype": "text/x-python",
   "name": "python",
   "nbconvert_exporter": "python",
   "pygments_lexer": "ipython3",
   "version": "3.9.13"
  },
  "toc": {
   "base_numbering": 1,
   "nav_menu": {},
   "number_sections": true,
   "sideBar": true,
   "skip_h1_title": false,
   "title_cell": "Table of Contents",
   "title_sidebar": "Contents",
   "toc_cell": false,
   "toc_position": {},
   "toc_section_display": true,
   "toc_window_display": false
  },
  "varInspector": {
   "cols": {
    "lenName": 16,
    "lenType": 16,
    "lenVar": 40
   },
   "kernels_config": {
    "python": {
     "delete_cmd_postfix": "",
     "delete_cmd_prefix": "del ",
     "library": "var_list.py",
     "varRefreshCmd": "print(var_dic_list())"
    },
    "r": {
     "delete_cmd_postfix": ") ",
     "delete_cmd_prefix": "rm(",
     "library": "var_list.r",
     "varRefreshCmd": "cat(var_dic_list()) "
    }
   },
   "types_to_exclude": [
    "module",
    "function",
    "builtin_function_or_method",
    "instance",
    "_Feature"
   ],
   "window_display": false
  }
 },
 "nbformat": 4,
 "nbformat_minor": 5
}
